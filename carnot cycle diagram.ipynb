{
 "cells": [
  {
   "cell_type": "code",
   "execution_count": null,
   "metadata": {},
   "outputs": [],
   "source": [
    "import math\n",
    "from vpython import*\n",
    "r=1.4\n",
    "L=1.0\n",
    "m=0.5\n",
    "Ra=287\n",
    "Th=373.15\n",
    "Tc=273.15\n",
    "p0=101300\n",
    "v0=m*Ra*Th/p0\n",
    "v1=(Th/Tc)**(1/(r-1))*v0\n",
    "p1=m*Ra*Tc/v1\n",
    "v3=1/24*pi*L**3\n",
    "p3=p0*v0/v3\n",
    "v2=(Th/Tc)**(1/(r-1))*v3\n",
    "p2=p1*v1/v2\n",
    "W30=m*Ra*Th*math.log(v0/v3)\n",
    "W12=-m*Ra*Tc*math.log(v1/v2)\n",
    "Q30=W30\n",
    "Q12=-W12\n",
    "W01=-5/2*m*Ra*(Tc-Th)\n",
    "W23=-5/2*m*Ra*(Th-Tc)\n",
    "Q01=0\n",
    "Q23=0\n",
    "efficiency=1-Tc/Th\n",
    "W=W01+W12+W23+W30\n",
    "Q=Q01+Q12+Q23+Q30\n",
    "\n",
    "carnot_cycle=graph(width=600,height=600,xtitle='volume',ytitle='pressure',background=vec(0.5,0.5,0))\n",
    "adiabatic1=gcurve(graph=carnot_cycle,color=color.red)\n",
    "adiabatic2=gcurve(graph=carnot_cycle,color=color.orange)\n",
    "isothermal1=gcurve(graph=carnot_cycle,color=color.blue)\n",
    "isothermal2=gcurve(graph=carnot_cycle,color=color.cyan)\n",
    "\n",
    "c1=round(p0*v0**r)\n",
    "c2=round(p2*v2**r)\n",
    "\n",
    "\n",
    "v=v0    \n",
    "while v0<=v<=v1:\n",
    "    adiabatic1.plot(pos=(v,c1/v**r))\n",
    "    v+=0.0001\n",
    "v=v1\n",
    "while v2<=v<=v1:\n",
    "    isothermal1.plot(pos=(v,m*Ra*Tc/v))\n",
    "    v-=0.0001\n",
    "v=v2\n",
    "while v3<=v<=v2:\n",
    "    adiabatic2.plot(pos=(v,c2/v**r))\n",
    "    v-=0.0001\n",
    "v=v3\n",
    "while v3<=v<=v0:\n",
    "    isothermal2.plot(pos=(v,m*Ra*Th/v))\n",
    "    v+=0.0001\n",
    "    "
   ]
  }
 ],
 "metadata": {
  "kernelspec": {
   "display_name": "VPython",
   "language": "python",
   "name": "vpython"
  },
  "language_info": {
   "codemirror_mode": {
    "name": "ipython",
    "version": 3
   },
   "file_extension": ".py",
   "mimetype": "text/x-python",
   "name": "python",
   "nbconvert_exporter": "python",
   "pygments_lexer": "ipython3",
   "version": "3.6.5"
  }
 },
 "nbformat": 4,
 "nbformat_minor": 2
}
