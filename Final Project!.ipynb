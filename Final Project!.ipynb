{
 "cells": [
  {
   "cell_type": "code",
   "execution_count": 1,
   "metadata": {
    "scrolled": false
   },
   "outputs": [
    {
     "data": {
      "application/javascript": [
       "require.undef(\"nbextensions/vpython_libraries/glow.min\");"
      ],
      "text/plain": [
       "<IPython.core.display.Javascript object>"
      ]
     },
     "metadata": {},
     "output_type": "display_data"
    },
    {
     "data": {
      "application/javascript": [
       "require.undef(\"nbextensions/vpython_libraries/glowcomm\");"
      ],
      "text/plain": [
       "<IPython.core.display.Javascript object>"
      ]
     },
     "metadata": {},
     "output_type": "display_data"
    },
    {
     "data": {
      "application/javascript": [
       "require.undef(\"nbextensions/vpython_libraries/jquery-ui.custom.min\");"
      ],
      "text/plain": [
       "<IPython.core.display.Javascript object>"
      ]
     },
     "metadata": {},
     "output_type": "display_data"
    },
    {
     "data": {
      "application/javascript": [
       "require([\"nbextensions/vpython_libraries/glow.min\"], function(){console.log(\"GLOW LOADED\");})"
      ],
      "text/plain": [
       "<IPython.core.display.Javascript object>"
      ]
     },
     "metadata": {},
     "output_type": "display_data"
    },
    {
     "data": {
      "application/javascript": [
       "require([\"nbextensions/vpython_libraries/glowcomm\"], function(){console.log(\"GLOWCOMM LOADED\");})"
      ],
      "text/plain": [
       "<IPython.core.display.Javascript object>"
      ]
     },
     "metadata": {},
     "output_type": "display_data"
    },
    {
     "data": {
      "application/javascript": [
       "require([\"nbextensions/vpython_libraries/jquery-ui.custom.min\"], function(){console.log(\"JQUERY LOADED\");})"
      ],
      "text/plain": [
       "<IPython.core.display.Javascript object>"
      ]
     },
     "metadata": {},
     "output_type": "display_data"
    },
    {
     "data": {
      "text/html": [
       "<div id=\"glowscript\" class=\"glowscript\"></div>"
      ],
      "text/plain": [
       "<IPython.core.display.HTML object>"
      ]
     },
     "metadata": {},
     "output_type": "display_data"
    },
    {
     "data": {
      "application/javascript": [
       "window.__context = { glowscript_container: $(\"#glowscript\").removeAttr(\"id\")}"
      ],
      "text/plain": [
       "<IPython.core.display.Javascript object>"
      ]
     },
     "metadata": {},
     "output_type": "display_data"
    },
    {
     "data": {
      "text/html": [
       "<div id=\"glowscript\" class=\"glowscript\"></div>"
      ],
      "text/plain": [
       "<IPython.core.display.HTML object>"
      ]
     },
     "metadata": {},
     "output_type": "display_data"
    },
    {
     "data": {
      "application/javascript": [
       "window.__context = { glowscript_container: $(\"#glowscript\").removeAttr(\"id\")}"
      ],
      "text/plain": [
       "<IPython.core.display.Javascript object>"
      ]
     },
     "metadata": {},
     "output_type": "display_data"
    }
   ],
   "source": [
    "from vpython import*\n",
    "import math\n",
    "#初始條件\n",
    "L = 1.0\n",
    "K,Th,Tc,p0=8.314,213.15,173.15,101300\n",
    "theta_rod=pi\n",
    "theta_diff=pi/2\n",
    "omega=-2*pi\n",
    "t0=0\n",
    "t,dt=0,1e-3\n",
    "R=0.082\n",
    "r=1.4 #r=Cp/Cv\n",
    "\n",
    "\n",
    "scene=canvas(width=800,height=800,x=200,y=0,background=vec(0.2,0.2,0),center=vec(2*L,0,0))\n",
    "container=cylinder(pos=vec(0,0,0),axis=vec(3*L,0,0),radius=L/2,opacity=0.2)\n",
    "containerh=cylinder(radius=L/2,opacity=0.2,color=color.red)\n",
    "\n",
    "#轉盤\n",
    "wheel_pos=vector(5*L,0,0)\n",
    "wheel=cylinder(pos=wheel_pos,axis=vec(0,0,L/10),radius=L/2,opacity=0.5,texture=textures.metal)\n",
    "#rod_lengh=L\n",
    "rod_lengh=3*L\n",
    "crank_x=L*cos(theta_rod)/2\n",
    "crank_y=L*sin(theta_rod)/2\n",
    "crank=cylinder(pos=wheel.pos+vec(crank_x,crank_y,0),axis=vec(-(L**2-crank_y**2)**0.5,-crank_y,0),radius=L/30,color=vec(0,0,0.3))\n",
    "rod=cylinder(pos=crank.pos+crank.axis,axis=vec(-3,0,0),radius=L/30,color=vec(0,0.5,0.5),opacity=0.3)\n",
    "ratio=1\n",
    "diskh=cylinder(pos=rod.pos+rod.axis,axis=vec(0.01*L,0,0),radius=L/2,texture=textures.metal)\n",
    "\n",
    "n=p0*pi*(1/2*L)*L**2/4/R/Th\n",
    "t_T=Tc/Th\n",
    "C1=p0*(pi*L**3/8)**r\n",
    "C2=n*R*Tc/(3*L**3/8*pi)*(3*L**3/8*pi)**r\n",
    "\n",
    "#def Vh():#熱庫體積\n",
    " #   return pi*L**2*(diskh.pos.x)/4\n",
    "def V(): #總體積\n",
    "    return pi*L**2*(diskh.pos.x)/4\n",
    "def p(): #壓力\n",
    "    if crank_y>0 and pi*L**3/8<=V()<=(Tc/Th)**(1/(r-1))*3*L**3/8*pi:\n",
    "        return (n*R*Th/V())\n",
    "    if crank_y>0 and (Tc/Th)**(1/(r-1))*3*L**3/8*pi<=V()<=pi*L**3*3/8:\n",
    "        return (C2/V()**r)\n",
    "    if crank_y<0 and (Th/Tc)**(1/(r-1))*L**3/8*pi<=V()<=pi*L**3*3/8:    \n",
    "        return (n*R*Tc/V())\n",
    "    if crank_y<0 and pi*L**3/8<=V()<=(Th/Tc)**(1/(r-1))*L**3/8*pi:\n",
    "        return (C1/V()**r)\n",
    "\n",
    "    \n",
    "        \n",
    "#熱力學參數\n",
    "Q30,Q12=0,0\n",
    "v=0\n",
    "P=p()\n",
    "v=V()\n",
    "W=0\n",
    "W_original=0\n",
    "Q30_original=0\n",
    "\n",
    "#圖形輸出\n",
    "scene1=graph(y=400,width=800,height=800,xtitle='V(m**3)',ytitle='P(Pa)',background=vec(0,0,0))\n",
    "pV=gcurve(color=color.red,graph=scene1)\n",
    "scene2=graph(y=400,width=800,height=800,xtitle='t(s)',ytitle='Qin(J)',background=vec(0.4,0.4,0))\n",
    "scene3=graph(y=400,width=800,height=800,xtitle='t(s)',ytitle='Qout(J)',background=vec(0.4,0.4,0))\n",
    "scene4=graph(y=400,width=800,height=800,xtitle='t(s)',ytitle='thermal efficiency',background=vec(0.4,0.4,0),ymax=1,ymin=0)\n",
    "scene5=graph(y=400,width=800,height=800,xtitle='t(s)',ytitle='W',background=vec(0.4,0.4,0))\n",
    "Wdrav=gcurve(color=color.cyan,graph=scene5)#W\n",
    "Qindrav=gcurve(color=color.red,graph=scene2)#Qin\n",
    "Qoutdrav=gcurve(color=color.green,graph=scene3)#Qout\n",
    "efficiency_drav=gcurve(color=color.blue,graph=scene4)#thermal efficiency\n",
    "carnot_cycle=graph(width=600,height=600,xtitle='volume',ytitle='pressure',background=vec(0.5,0.5,0))\n",
    "thermal_cycle=gcurve(graph=carnot_cycle,color=color.cyan)\n",
    "\n",
    "\n",
    "while True:\n",
    "    t+=dt\n",
    "    rate(100)\n",
    "    \n",
    "    #處理轉動\n",
    "    theta_original=theta_rod\n",
    "    theta_rod+=omega*dt\n",
    "    wheel.rotate(angle=theta_rod-theta_original)\n",
    "    #操作桿部分\n",
    "    crank_x=L*cos(theta_rod)/2\n",
    "    crank_y=L*sin(theta_rod)/2\n",
    "    crank.pos=vector(crank_x,crank_y,0)+wheel.pos\n",
    "    crank.axis=vector(-(L**2-crank_y**2)**0.5,-crank_y,0)\n",
    "    rod.pos=crank.pos+crank.axis\n",
    "    rod.axis=vector(-(rod_lengh**2-rod.pos.y**2)**0.5,-rod.pos.y,0)\n",
    "\n",
    "    #活塞部分\n",
    "    diskh.pos=rod.pos+rod.axis\n",
    "    \n",
    "    #容器部分\n",
    "    containerh.axis=diskh.pos\n",
    "    containerh.pos=container.pos\n",
    "    container.axis=vector(3*L,0,0)\n",
    "    \n",
    "    if crank_y>0 and pi*L**3/8<=V()<=(Tc/Th)**(1/(r-1))*3*L**3/8*pi:\n",
    "        containerh.color=color.red\n",
    "        Q30+=p()*(V()-v)\n",
    "        W+=p()*(V()-v)\n",
    "        Wdrav.plot(pos=(t,W))\n",
    "        Qindrav.plot(pos=(t,Q30))\n",
    "        Qoutdrav.plot(pos=(t,Q12))\n",
    "        \n",
    "    if crank_y>=0 and (Tc/Th)**(1/(r-1))*3*L**3/8*pi<V()<=pi*L**3*3/8:\n",
    "        containerh.color=color.cyan\n",
    "        W+=p()*(V()-v)\n",
    "        Wdrav.plot(pos=(t,W))\n",
    "        Qindrav.plot(pos=(t,Q30))\n",
    "        Qoutdrav.plot(pos=(t,Q12))\n",
    "        \n",
    "    if crank_y<0 and (Th/Tc)**(1/(r-1))*L**3/8*pi<=V()<pi*L**3*3/8:  \n",
    "        containerh.color=color.blue\n",
    "        Q12+=p()*(V()-v)\n",
    "        W+=p()*(V()-v)\n",
    "        Wdrav.plot(pos=(t,W))\n",
    "        Qindrav.plot(pos=(t,Q30))\n",
    "        Qoutdrav.plot(pos=(t,Q12))\n",
    "    if crank_y<0 and pi*L**3/8<V()<(Th/Tc)**(1/(r-1))*L**3/8*pi:\n",
    "        containerh.color=color.orange\n",
    "        W+=p()*(V()-v)\n",
    "        Wdrav.plot(pos=(t,W))\n",
    "        Qindrav.plot(pos=(t,Q30))\n",
    "        Qoutdrav.plot(pos=(t,Q12))\n",
    "    if V()==L**3/8*pi and t>0:\n",
    "        efficiency_drav.plot(pos=(t,(W-W_original)/(Q30-Q30_original)))\n",
    "        W_original=W\n",
    "        Q30_original=Q30\n",
    "       \n",
    "        \n",
    "    thermal_cycle.plot(pos=(V(),p()))\n",
    "    P=p()\n",
    "    v=V()"
   ]
  },
  {
   "cell_type": "code",
   "execution_count": 1,
   "metadata": {
    "scrolled": true
   },
   "outputs": [
    {
     "data": {
      "application/javascript": [
       "require.undef(\"nbextensions/vpython_libraries/glow.min\");"
      ],
      "text/plain": [
       "<IPython.core.display.Javascript object>"
      ]
     },
     "metadata": {},
     "output_type": "display_data"
    },
    {
     "data": {
      "application/javascript": [
       "require.undef(\"nbextensions/vpython_libraries/glowcomm\");"
      ],
      "text/plain": [
       "<IPython.core.display.Javascript object>"
      ]
     },
     "metadata": {},
     "output_type": "display_data"
    },
    {
     "data": {
      "application/javascript": [
       "require.undef(\"nbextensions/vpython_libraries/jquery-ui.custom.min\");"
      ],
      "text/plain": [
       "<IPython.core.display.Javascript object>"
      ]
     },
     "metadata": {},
     "output_type": "display_data"
    },
    {
     "data": {
      "application/javascript": [
       "require([\"nbextensions/vpython_libraries/glow.min\"], function(){console.log(\"GLOW LOADED\");})"
      ],
      "text/plain": [
       "<IPython.core.display.Javascript object>"
      ]
     },
     "metadata": {},
     "output_type": "display_data"
    },
    {
     "data": {
      "application/javascript": [
       "require([\"nbextensions/vpython_libraries/glowcomm\"], function(){console.log(\"GLOWCOMM LOADED\");})"
      ],
      "text/plain": [
       "<IPython.core.display.Javascript object>"
      ]
     },
     "metadata": {},
     "output_type": "display_data"
    },
    {
     "data": {
      "application/javascript": [
       "require([\"nbextensions/vpython_libraries/jquery-ui.custom.min\"], function(){console.log(\"JQUERY LOADED\");})"
      ],
      "text/plain": [
       "<IPython.core.display.Javascript object>"
      ]
     },
     "metadata": {},
     "output_type": "display_data"
    },
    {
     "data": {
      "text/html": [
       "<div id=\"glowscript\" class=\"glowscript\"></div>"
      ],
      "text/plain": [
       "<IPython.core.display.HTML object>"
      ]
     },
     "metadata": {},
     "output_type": "display_data"
    },
    {
     "data": {
      "application/javascript": [
       "window.__context = { glowscript_container: $(\"#glowscript\").removeAttr(\"id\")}"
      ],
      "text/plain": [
       "<IPython.core.display.Javascript object>"
      ]
     },
     "metadata": {},
     "output_type": "display_data"
    }
   ],
   "source": [
    "from vpython import*\n",
    "import math\n",
    "r=1.4\n",
    "L=1.0\n",
    "n=500/28.97\n",
    "R=8.314\n",
    "Th=373.15\n",
    "Tc=273.15\n",
    "p0=101300\n",
    "v0=n*R*Th/p0\n",
    "v1=(Th/Tc)**(1/(r-1))*v0\n",
    "p1=n*R*Tc/v1\n",
    "v3=1/24*pi*L**3\n",
    "p3=p0*v0/v3\n",
    "v2=(Th/Tc)**(1/(r-1))*v3\n",
    "p2=p1*v1/v2\n",
    "W30=n*R*Th*math.log(v0/v3)\n",
    "W12=-n*R*Tc*math.log(v1/v2)\n",
    "Q30=W30\n",
    "Q12=-W12\n",
    "W01=-5/2*n*R*(Tc-Th)\n",
    "W23=-5/2*n*R*(Th-Tc)\n",
    "Q01=0\n",
    "Q23=0\n",
    "efficiency=1-Tc/Th\n",
    "W=W01+W12+W23+W30\n",
    "Q=Q01+Q12+Q23+Q30\n",
    "\n",
    "carnot_cycle=graph(width=600,height=600,xtitle='volume',xmin=-0.05,xmax=1.2,ytitle='pressure',background=vec(0.5,0.5,0))\n",
    "adiabatic1=gcurve(graph=carnot_cycle,color=color.red)\n",
    "adiabatic2=gcurve(graph=carnot_cycle,color=color.orange)\n",
    "isothermal1=gcurve(graph=carnot_cycle,color=color.blue)\n",
    "isothermal2=gcurve(graph=carnot_cycle,color=color.cyan)\n",
    "\n",
    "c1=round(p0*v0**r)\n",
    "c2=round(p2*v2**r)\n",
    "v=v0    \n",
    "while v0<=v<=v1:\n",
    "    adiabatic1.plot(pos=(v,c1/v**r))\n",
    "    v+=0.0001\n",
    "v=v1\n",
    "while v2<=v<=v1:\n",
    "    isothermal1.plot(pos=(v,n*R*Tc/v))\n",
    "    v-=0.0001\n",
    "v=v2\n",
    "while v3<=v<=v2:\n",
    "    adiabatic2.plot(pos=(v,c2/v**r))\n",
    "    v-=0.0001\n",
    "v=v3\n",
    "while v3<=v<=v0:\n",
    "    isothermal2.plot(pos=(v,n*R*Th/v))\n",
    "    v+=0.000001"
   ]
  },
  {
   "cell_type": "code",
   "execution_count": null,
   "metadata": {},
   "outputs": [],
   "source": []
  }
 ],
 "metadata": {
  "kernelspec": {
   "display_name": "VPython",
   "language": "python",
   "name": "vpython"
  },
  "language_info": {
   "codemirror_mode": {
    "name": "ipython",
    "version": 3
   },
   "file_extension": ".py",
   "mimetype": "text/x-python",
   "name": "python",
   "nbconvert_exporter": "python",
   "pygments_lexer": "ipython3",
   "version": "3.6.5"
  }
 },
 "nbformat": 4,
 "nbformat_minor": 2
}
