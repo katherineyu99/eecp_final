{
 "cells": [
  {
   "cell_type": "code",
   "execution_count": 1,
   "metadata": {},
   "outputs": [
    {
     "data": {
      "text/html": [
       "<div id=\"glowscript\" class=\"glowscript\"></div>"
      ],
      "text/plain": [
       "<IPython.core.display.HTML object>"
      ]
     },
     "metadata": {},
     "output_type": "display_data"
    },
    {
     "data": {
      "application/javascript": [
       "window.__context = { glowscript_container: $(\"#glowscript\").removeAttr(\"id\")}"
      ],
      "text/plain": [
       "<IPython.core.display.Javascript object>"
      ]
     },
     "metadata": {},
     "output_type": "display_data"
    },
    {
     "ename": "KeyboardInterrupt",
     "evalue": "",
     "output_type": "error",
     "traceback": [
      "\u001b[1;31m---------------------------------------------------------------------------\u001b[0m",
      "\u001b[1;31mKeyboardInterrupt\u001b[0m                         Traceback (most recent call last)",
      "\u001b[1;32m<ipython-input-1-4431b7fb9ee2>\u001b[0m in \u001b[0;36m<module>\u001b[1;34m()\u001b[0m\n\u001b[0;32m     76\u001b[0m \u001b[1;32mwhile\u001b[0m \u001b[1;32mTrue\u001b[0m\u001b[1;33m:\u001b[0m\u001b[1;33m\u001b[0m\u001b[0m\n\u001b[0;32m     77\u001b[0m     \u001b[0mt\u001b[0m\u001b[1;33m+=\u001b[0m\u001b[0mdt\u001b[0m\u001b[1;33m\u001b[0m\u001b[0m\n\u001b[1;32m---> 78\u001b[1;33m     \u001b[0mrate\u001b[0m\u001b[1;33m(\u001b[0m\u001b[1;36m0.1\u001b[0m\u001b[1;33m/\u001b[0m\u001b[0mdt\u001b[0m\u001b[1;33m)\u001b[0m\u001b[1;33m\u001b[0m\u001b[0m\n\u001b[0m\u001b[0;32m     79\u001b[0m \u001b[1;33m\u001b[0m\u001b[0m\n\u001b[0;32m     80\u001b[0m     \u001b[1;31m#處理轉動\u001b[0m\u001b[1;33m\u001b[0m\u001b[1;33m\u001b[0m\u001b[0m\n",
      "\u001b[1;32m~\\Anaconda3\\lib\\site-packages\\vpython\\vpython.py\u001b[0m in \u001b[0;36m__call__\u001b[1;34m(self, N)\u001b[0m\n\u001b[0;32m    214\u001b[0m         \u001b[0mself\u001b[0m\u001b[1;33m.\u001b[0m\u001b[0mrval\u001b[0m \u001b[1;33m=\u001b[0m \u001b[0mN\u001b[0m\u001b[1;33m\u001b[0m\u001b[0m\n\u001b[0;32m    215\u001b[0m         \u001b[1;32mif\u001b[0m \u001b[0mself\u001b[0m\u001b[1;33m.\u001b[0m\u001b[0mrval\u001b[0m \u001b[1;33m<\u001b[0m \u001b[1;36m1\u001b[0m\u001b[1;33m:\u001b[0m \u001b[1;32mraise\u001b[0m \u001b[0mValueError\u001b[0m\u001b[1;33m(\u001b[0m\u001b[1;34m\"rate value must be greater than or equal to 1\"\u001b[0m\u001b[1;33m)\u001b[0m\u001b[1;33m\u001b[0m\u001b[0m\n\u001b[1;32m--> 216\u001b[1;33m         \u001b[0msuper\u001b[0m\u001b[1;33m(\u001b[0m\u001b[0m_RateKeeper2\u001b[0m\u001b[1;33m,\u001b[0m \u001b[0mself\u001b[0m\u001b[1;33m)\u001b[0m\u001b[1;33m.\u001b[0m\u001b[0m__call__\u001b[0m\u001b[1;33m(\u001b[0m\u001b[0mself\u001b[0m\u001b[1;33m.\u001b[0m\u001b[0mrval\u001b[0m\u001b[1;33m)\u001b[0m \u001b[1;31m## calls __call__ in rate_control.py\u001b[0m\u001b[1;33m\u001b[0m\u001b[0m\n\u001b[0m\u001b[0;32m    217\u001b[0m \u001b[1;33m\u001b[0m\u001b[0m\n\u001b[0;32m    218\u001b[0m \u001b[1;32mif\u001b[0m \u001b[0msys\u001b[0m\u001b[1;33m.\u001b[0m\u001b[0mversion\u001b[0m \u001b[1;33m>\u001b[0m \u001b[1;34m'3'\u001b[0m\u001b[1;33m:\u001b[0m\u001b[1;33m\u001b[0m\u001b[0m\n",
      "\u001b[1;32m~\\Anaconda3\\lib\\site-packages\\vpython\\rate_control.py\u001b[0m in \u001b[0;36m__call__\u001b[1;34m(self, maxRate)\u001b[0m\n\u001b[0;32m    205\u001b[0m             \u001b[0mdt\u001b[0m \u001b[1;33m=\u001b[0m \u001b[0mself\u001b[0m\u001b[1;33m.\u001b[0m\u001b[0mlastSleep\u001b[0m \u001b[1;33m+\u001b[0m \u001b[0mself\u001b[0m\u001b[1;33m.\u001b[0m\u001b[0mcalls\u001b[0m\u001b[1;33m*\u001b[0m\u001b[1;33m(\u001b[0m\u001b[0mself\u001b[0m\u001b[1;33m.\u001b[0m\u001b[0muserTime\u001b[0m \u001b[1;33m+\u001b[0m \u001b[0mself\u001b[0m\u001b[1;33m.\u001b[0m\u001b[0mcallTime\u001b[0m \u001b[1;33m+\u001b[0m \u001b[0mself\u001b[0m\u001b[1;33m.\u001b[0m\u001b[0mdelay\u001b[0m\u001b[1;33m)\u001b[0m \u001b[1;33m+\u001b[0m\u001b[0;31m \u001b[0m\u001b[0;31m\\\u001b[0m\u001b[1;33m\u001b[0m\u001b[0m\n\u001b[0;32m    206\u001b[0m                  \u001b[0mrenders\u001b[0m\u001b[1;33m*\u001b[0m\u001b[0mself\u001b[0m\u001b[1;33m.\u001b[0m\u001b[0mrenderTime\u001b[0m \u001b[1;33m+\u001b[0m \u001b[0msleeps\u001b[0m\u001b[1;33m*\u001b[0m\u001b[0mself\u001b[0m\u001b[1;33m.\u001b[0m\u001b[0minteractionPeriod\u001b[0m \u001b[1;33m-\u001b[0m \u001b[0m_clock\u001b[0m\u001b[1;33m(\u001b[0m\u001b[1;33m)\u001b[0m\u001b[1;33m\u001b[0m\u001b[0m\n\u001b[1;32m--> 207\u001b[1;33m             \u001b[0m_sleep\u001b[0m\u001b[1;33m(\u001b[0m\u001b[0mdt\u001b[0m\u001b[1;33m)\u001b[0m\u001b[1;33m\u001b[0m\u001b[0m\n\u001b[0m\u001b[0;32m    208\u001b[0m             \u001b[0mself\u001b[0m\u001b[1;33m.\u001b[0m\u001b[0mlastSleep\u001b[0m \u001b[1;33m=\u001b[0m \u001b[0m_clock\u001b[0m\u001b[1;33m(\u001b[0m\u001b[1;33m)\u001b[0m\u001b[1;33m\u001b[0m\u001b[0m\n\u001b[0;32m    209\u001b[0m             \u001b[0mself\u001b[0m\u001b[1;33m.\u001b[0m\u001b[0mcalls\u001b[0m \u001b[1;33m=\u001b[0m \u001b[1;36m0\u001b[0m\u001b[1;33m\u001b[0m\u001b[0m\n",
      "\u001b[1;32m~\\Anaconda3\\lib\\site-packages\\vpython\\rate_control.py\u001b[0m in \u001b[0;36m_sleep\u001b[1;34m(dt)\u001b[0m\n\u001b[0;32m     53\u001b[0m         \u001b[1;32mreturn\u001b[0m\u001b[1;33m\u001b[0m\u001b[0m\n\u001b[0;32m     54\u001b[0m     \u001b[0mtend\u001b[0m \u001b[1;33m=\u001b[0m \u001b[0m_clock\u001b[0m\u001b[1;33m(\u001b[0m\u001b[1;33m)\u001b[0m\u001b[1;33m+\u001b[0m\u001b[0mdt\u001b[0m\u001b[1;33m\u001b[0m\u001b[0m\n\u001b[1;32m---> 55\u001b[1;33m     \u001b[1;32mwhile\u001b[0m \u001b[0m_clock\u001b[0m\u001b[1;33m(\u001b[0m\u001b[1;33m)\u001b[0m \u001b[1;33m<\u001b[0m \u001b[0mtend\u001b[0m\u001b[1;33m:\u001b[0m\u001b[1;33m\u001b[0m\u001b[0m\n\u001b[0m\u001b[0;32m     56\u001b[0m         \u001b[1;32mpass\u001b[0m\u001b[1;33m\u001b[0m\u001b[0m\n\u001b[0;32m     57\u001b[0m \u001b[1;33m\u001b[0m\u001b[0m\n",
      "\u001b[1;31mKeyboardInterrupt\u001b[0m: "
     ]
    }
   ],
   "source": [
    "from vpython import*\n",
    "#初始條件\n",
    "L = 1.0\n",
    "K,T,Th,Tc,p0=8.314,273.15,373.15,173.15,101300\n",
    "theta_rod=pi\n",
    "theta_diff=pi/2\n",
    "omega=-2*pi\n",
    "t0=0\n",
    "t,dt=0,1e-3\n",
    "R=0.082\n",
    "\n",
    "#display.5\n",
    "scene=canvas(width=800,height=800,x=200,y=0,background=vec(0.2,0.2,0),center=vec(2*L,0,0))\n",
    "#container\n",
    "container=cylinder(pos=vec(0,0,0),axis=vec(3*L,0,0),radius=L/2,opacity=0.2)\n",
    "containerh=cylinder(radius=L/2,opacity=0.2,color=color.red)\n",
    "#轉盤\n",
    "wheel_pos=vector(5*L,0,0)\n",
    "wheel=cylinder(pos=wheel_pos,axis=vec(0,0,L/10),radius=L/2,opacity=0.5,color=color.green)\n",
    "rod_lengh=L\n",
    "#rodco_lengh=3*L\n",
    "#rodc_x=L*cos(theta_rod)/2\n",
    "#rodc_y=L*sin(theta_rod)/2\n",
    "#rodc=cylinder(pos=wheel.pos+vec(rodc_x,rodc_y,0),axis=vec(-(L**2-rodc_y**2)**0.5,-rodc_y,0),radius=L/30,color=vec(0,0,0.3))\n",
    "#rodco=cylinder(pos=rodc.pos+rodc.axis,axis=vec(0,0,0),radius=L/30,color=vec(0,0.5,0.5),opcity=0.3)\n",
    "#rodco.axis=vector(-(rodco_lengh**2-rodco.pos.y**2)**0.5,-rodc.pos.y,0)\n",
    "\n",
    "rodho_lengh=3*L\n",
    "rodh_x=L*cos(theta_rod)/2\n",
    "rodh_y=L*sin(theta_rod)/2\n",
    "rodh=cylinder(pos=wheel.pos+vec(rodh_x,rodh_y,0),axis=vec(-(L**2-rodh_y**2)**0.5,-rodh_y,0),radius=L/30,color=vec(0,0,0.3))\n",
    "rodho=cylinder(pos=rodh.pos+rodh.axis,axis=vec(0,0,0),radius=L/30,color=vec(0,0.5,0.5),opacity=0.3)\n",
    "rodho.axis=vector(-(rodho_lengh**2-rodho.pos.y**2)**0.5,-rodh.pos.y,0)\n",
    "\n",
    "ratio=1\n",
    "diskh=cylinder(pos=rodho.pos+rodho.axis,axis=vec(0.01*L,0,0),radius=L/2)\n",
    "#diskc=cylinder(pos=rodco.pos+rodco.axis,axis=vec(0.01*L,0,0),radius=L/2)\n",
    "\n",
    "#函式庫\n",
    "Vsh=pi*L**3/4\n",
    "Vdh=pi*L**2*(wheel_pos.x-wheel.radius-rod_lengh-rodho_lengh)/4\n",
    "Vsc=Vsh\n",
    "Vdc=pi*L**2*(rod_lengh-rodho_lengh-2*wheel.radius)/4\n",
    "\n",
    "n=p0*pi*(wheel_pos.x-rodho_lengh)*L**2/4/R/T\n",
    "t_T=Tc/Th\n",
    "\n",
    "def Vh():#熱庫體積\n",
    "    return pi*L**2*(diskh.pos.x)/4\n",
    "#def Vc():#冷庫體積\n",
    " #   return pi*L**2*(diskc.pos.x)/4\n",
    "def V(): #總體積\n",
    "    return pi*L**2*3*L/4-pi*L**2*(diskh.pos.x)/4\n",
    "def p(): #壓力\n",
    "    return (n*R*Tc/t_T*Vh()+V())\n",
    "\n",
    "#熱力學參數\n",
    "Qin=0\n",
    "Oout=0\n",
    "v=0\n",
    "P=p()\n",
    "v=V()\n",
    "vh=Vh()\n",
    "W=0\n",
    "\n",
    "#圖形輸出\n",
    "scene1=graph(y=400,width=800,height=800,xtitle='V(m**3)',ytitle='P(Pa)',background=vec(0.5,0.5,0))\n",
    "pV=gcurve(color=color.red,graph=scene1)\n",
    "scene2=graph(y=400,width=800,height=800,xtitle='t(s)',ytitle='W(J),Qin(J)',background=vec(0.4,0.4,0))\n",
    "scene3=graph(y=400,width=800,height=800,xtitle='t(s)',ytitle='thermal efficiency',background=vec(0.4,0.4,0))\n",
    "Wdrav=gcurve(color=color.cyan,graph=scene2)#W\n",
    "Qindrav=gcurve(color=color.red,graph=scene2)#Qin\n",
    "efficiency_drav=gdots(color=color.blue,graph=scene3)#thermal efficiency\n",
    "rfefdrav=gdots(color=color.cyan,graph=scene3)#theory_thermal efficiency\n",
    "\n",
    "while True:\n",
    "    t+=dt\n",
    "    rate(0.1/dt)\n",
    "    \n",
    "    #處理轉動\n",
    "    theta_original=theta_rod\n",
    "    theta_rod+=omega*dt\n",
    "    wheel.rotate(angle=theta_rod-theta_original)\n",
    "    \n",
    "    #操作桿部分\n",
    "    #rodc_x=L*cos(theta_rod)/2\n",
    "    #rodc_y=L*sin(theta_rod)/2\n",
    "    #rodc.pos=vector(rodc_x,rodc_y,0)+wheel.pos\n",
    "    #rodc.axis=vector(-(L**2-rodc_y**2)**0.5,-rodc_y,0)\n",
    "    #rodco.pos=rodc.pos+rodc.axis\n",
    "    #rodco.axis=vector(-(rodco_lengh**2-rodco.pos.y**2)**0.5,-rodco.pos.y,0)\n",
    "    \n",
    "    rodh_x=L*cos(theta_rod)/2\n",
    "    rodh_y=L*sin(theta_rod)/2\n",
    "    rodh.pos=vector(rodh_x,rodh_y,0)+wheel.pos\n",
    "    rodh.axis=vector(-(L**2-rodh_y**2)**0.5,-rodh_y,0)\n",
    "    rodho.pos=rodh.pos+rodh.axis\n",
    "    rodho.axis=vector(-(rodho_lengh**2-rodho.pos.y**2)**0.5,-rodho.pos.y,0)\n",
    "\n",
    "    #活塞部分\n",
    "    #diskc.pos=rodco.pos+rodco.axis\n",
    "    diskh.pos=rodho.pos+rodho.axis\n",
    "    \n",
    "    #容器部分\n",
    "    containerh.axis=diskh.pos\n",
    "    containerh.pos=container.pos\n",
    "    #containerc.pos=diskh.pos\n",
    "    #containerc.axis=diskc.pos-diskh.pos\n",
    "    container.axis=vector(3*L,0,0)#-diskh.pos\n",
    " \n",
    "    #熱力過程\n",
    "    W+=1.5*(P+p())*(V()-v)\n",
    "    Qin+=1.5*(P+p())*(Vh()-vh)\n",
    "    if(theta_rod-theta_original)+(theta_rod-theta_original+omega*dt)<=0: #每週期輸出一次\n",
    "        Wdrav.plot(pos=(t,W))\n",
    "        Qindrav.plot(pos=(t,Qin))\n",
    "        if 0<W/Qin<1:\n",
    "            efficiency_drav.plot(pos=(t,W/Qin))\n",
    "            \n",
    "        theta_original-=-2*pi\n",
    "    P=p()\n",
    "    v=V()\n",
    "    vh=Vh()\n",
    "    #vc=Vc()\n",
    "    pV.plot(pos=(V(),p()))"
   ]
  }
 ],
 "metadata": {
  "kernelspec": {
   "display_name": "VPython",
   "language": "python",
   "name": "vpython"
  },
  "language_info": {
   "codemirror_mode": {
    "name": "ipython",
    "version": 3
   },
   "file_extension": ".py",
   "mimetype": "text/x-python",
   "name": "python",
   "nbconvert_exporter": "python",
   "pygments_lexer": "ipython3",
   "version": "3.6.5"
  }
 },
 "nbformat": 4,
 "nbformat_minor": 2
}
