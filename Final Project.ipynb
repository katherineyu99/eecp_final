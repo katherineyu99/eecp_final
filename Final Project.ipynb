{
 "cells": [
  {
   "cell_type": "code",
   "execution_count": 1,
   "metadata": {},
   "outputs": [
    {
     "data": {
      "application/javascript": [
       "require.undef(\"nbextensions/vpython_libraries/glow.min\");"
      ],
      "text/plain": [
       "<IPython.core.display.Javascript object>"
      ]
     },
     "metadata": {},
     "output_type": "display_data"
    },
    {
     "data": {
      "application/javascript": [
       "require.undef(\"nbextensions/vpython_libraries/glowcomm\");"
      ],
      "text/plain": [
       "<IPython.core.display.Javascript object>"
      ]
     },
     "metadata": {},
     "output_type": "display_data"
    },
    {
     "data": {
      "application/javascript": [
       "require.undef(\"nbextensions/vpython_libraries/jquery-ui.custom.min\");"
      ],
      "text/plain": [
       "<IPython.core.display.Javascript object>"
      ]
     },
     "metadata": {},
     "output_type": "display_data"
    },
    {
     "data": {
      "application/javascript": [
       "require([\"nbextensions/vpython_libraries/glow.min\"], function(){console.log(\"GLOW LOADED\");})"
      ],
      "text/plain": [
       "<IPython.core.display.Javascript object>"
      ]
     },
     "metadata": {},
     "output_type": "display_data"
    },
    {
     "data": {
      "application/javascript": [
       "require([\"nbextensions/vpython_libraries/glowcomm\"], function(){console.log(\"GLOWCOMM LOADED\");})"
      ],
      "text/plain": [
       "<IPython.core.display.Javascript object>"
      ]
     },
     "metadata": {},
     "output_type": "display_data"
    },
    {
     "data": {
      "application/javascript": [
       "require([\"nbextensions/vpython_libraries/jquery-ui.custom.min\"], function(){console.log(\"JQUERY LOADED\");})"
      ],
      "text/plain": [
       "<IPython.core.display.Javascript object>"
      ]
     },
     "metadata": {},
     "output_type": "display_data"
    },
    {
     "data": {
      "text/html": [
       "<div id=\"glowscript\" class=\"glowscript\"></div>"
      ],
      "text/plain": [
       "<IPython.core.display.HTML object>"
      ]
     },
     "metadata": {},
     "output_type": "display_data"
    },
    {
     "data": {
      "application/javascript": [
       "window.__context = { glowscript_container: $(\"#glowscript\").removeAttr(\"id\")}"
      ],
      "text/plain": [
       "<IPython.core.display.Javascript object>"
      ]
     },
     "metadata": {},
     "output_type": "display_data"
    },
    {
     "data": {
      "text/html": [
       "<div id=\"glowscript\" class=\"glowscript\"></div>"
      ],
      "text/plain": [
       "<IPython.core.display.HTML object>"
      ]
     },
     "metadata": {},
     "output_type": "display_data"
    },
    {
     "data": {
      "application/javascript": [
       "window.__context = { glowscript_container: $(\"#glowscript\").removeAttr(\"id\")}"
      ],
      "text/plain": [
       "<IPython.core.display.Javascript object>"
      ]
     },
     "metadata": {},
     "output_type": "display_data"
    },
    {
     "ename": "KeyboardInterrupt",
     "evalue": "",
     "output_type": "error",
     "traceback": [
      "\u001b[1;31m---------------------------------------------------------------------------\u001b[0m",
      "\u001b[1;31mKeyboardInterrupt\u001b[0m                         Traceback (most recent call last)",
      "\u001b[1;32m<ipython-input-1-fc1d167fa9e2>\u001b[0m in \u001b[0;36m<module>\u001b[1;34m()\u001b[0m\n\u001b[0;32m    130\u001b[0m \u001b[0mv\u001b[0m\u001b[1;33m=\u001b[0m\u001b[0mv3\u001b[0m\u001b[1;33m\u001b[0m\u001b[0m\n\u001b[0;32m    131\u001b[0m \u001b[1;32mwhile\u001b[0m \u001b[0mv3\u001b[0m\u001b[1;33m<=\u001b[0m\u001b[0mv\u001b[0m\u001b[1;33m<=\u001b[0m\u001b[0mv0\u001b[0m\u001b[1;33m:\u001b[0m\u001b[1;33m\u001b[0m\u001b[0m\n\u001b[1;32m--> 132\u001b[1;33m     \u001b[0misothermal2\u001b[0m\u001b[1;33m.\u001b[0m\u001b[0mplot\u001b[0m\u001b[1;33m(\u001b[0m\u001b[0mpos\u001b[0m\u001b[1;33m=\u001b[0m\u001b[1;33m(\u001b[0m\u001b[0mv\u001b[0m\u001b[1;33m,\u001b[0m\u001b[0mm\u001b[0m\u001b[1;33m*\u001b[0m\u001b[0mRa\u001b[0m\u001b[1;33m*\u001b[0m\u001b[0mTh\u001b[0m\u001b[1;33m/\u001b[0m\u001b[0mv\u001b[0m\u001b[1;33m)\u001b[0m\u001b[1;33m)\u001b[0m\u001b[1;33m\u001b[0m\u001b[0m\n\u001b[0m\u001b[0;32m    133\u001b[0m     \u001b[0mv\u001b[0m\u001b[1;33m+=\u001b[0m\u001b[1;36m0.000001\u001b[0m\u001b[1;33m\u001b[0m\u001b[0m\n\u001b[0;32m    134\u001b[0m \u001b[1;33m\u001b[0m\u001b[0m\n",
      "\u001b[1;32m~\\Anaconda3\\lib\\site-packages\\vpython\\vpython.py\u001b[0m in \u001b[0;36mplot\u001b[1;34m(self, *args1, **args2)\u001b[0m\n\u001b[0;32m   2197\u001b[0m         \u001b[1;32melse\u001b[0m\u001b[1;33m:\u001b[0m\u001b[1;33m\u001b[0m\u001b[0m\n\u001b[0;32m   2198\u001b[0m             \u001b[0mp\u001b[0m \u001b[1;33m=\u001b[0m \u001b[0mself\u001b[0m\u001b[1;33m.\u001b[0m\u001b[0mpreresolve2\u001b[0m\u001b[1;33m(\u001b[0m\u001b[0margs2\u001b[0m\u001b[1;33m)\u001b[0m\u001b[1;33m\u001b[0m\u001b[0m\n\u001b[1;32m-> 2199\u001b[1;33m         \u001b[0mself\u001b[0m\u001b[1;33m.\u001b[0m\u001b[0maddmethod\u001b[0m\u001b[1;33m(\u001b[0m\u001b[1;34m'plot'\u001b[0m\u001b[1;33m,\u001b[0m \u001b[0mp\u001b[0m\u001b[1;33m)\u001b[0m\u001b[1;33m\u001b[0m\u001b[0m\n\u001b[0m\u001b[0;32m   2200\u001b[0m \u001b[1;33m\u001b[0m\u001b[0m\n\u001b[0;32m   2201\u001b[0m     \u001b[1;32mdef\u001b[0m \u001b[0mdelete\u001b[0m\u001b[1;33m(\u001b[0m\u001b[0mself\u001b[0m\u001b[1;33m)\u001b[0m\u001b[1;33m:\u001b[0m\u001b[1;33m\u001b[0m\u001b[0m\n",
      "\u001b[1;32m~\\Anaconda3\\lib\\site-packages\\vpython\\vpython.py\u001b[0m in \u001b[0;36maddmethod\u001b[1;34m(self, method, data)\u001b[0m\n\u001b[0;32m    302\u001b[0m         \u001b[1;32mwhile\u001b[0m \u001b[1;32mnot\u001b[0m \u001b[0mbaseObj\u001b[0m\u001b[1;33m.\u001b[0m\u001b[0msent\u001b[0m\u001b[1;33m:\u001b[0m \u001b[1;31m# baseObj.sent is always True in the notebook case\u001b[0m\u001b[1;33m\u001b[0m\u001b[0m\n\u001b[0;32m    303\u001b[0m             \u001b[0mtime\u001b[0m\u001b[1;33m.\u001b[0m\u001b[0msleep\u001b[0m\u001b[1;33m(\u001b[0m\u001b[1;36m0.001\u001b[0m\u001b[1;33m)\u001b[0m\u001b[1;33m\u001b[0m\u001b[0m\n\u001b[1;32m--> 304\u001b[1;33m         \u001b[0mbaseObj\u001b[0m\u001b[1;33m.\u001b[0m\u001b[0mupdates\u001b[0m\u001b[1;33m[\u001b[0m\u001b[1;34m'methods'\u001b[0m\u001b[1;33m]\u001b[0m\u001b[1;33m.\u001b[0m\u001b[0mappend\u001b[0m\u001b[1;33m(\u001b[0m\u001b[1;33m(\u001b[0m\u001b[0mself\u001b[0m\u001b[1;33m.\u001b[0m\u001b[0midx\u001b[0m\u001b[1;33m,\u001b[0m \u001b[0mmethod\u001b[0m\u001b[1;33m,\u001b[0m \u001b[0mdata\u001b[0m\u001b[1;33m)\u001b[0m\u001b[1;33m)\u001b[0m \u001b[1;31m# this is an \"atomic\" (uninterruptable) operation\u001b[0m\u001b[1;33m\u001b[0m\u001b[0m\n\u001b[0m\u001b[0;32m    305\u001b[0m \u001b[1;33m\u001b[0m\u001b[0m\n\u001b[0;32m    306\u001b[0m     \u001b[1;32mdef\u001b[0m \u001b[0maddattr\u001b[0m\u001b[1;33m(\u001b[0m\u001b[0mself\u001b[0m\u001b[1;33m,\u001b[0m \u001b[0mattr\u001b[0m\u001b[1;33m)\u001b[0m\u001b[1;33m:\u001b[0m\u001b[1;33m\u001b[0m\u001b[0m\n",
      "\u001b[1;31mKeyboardInterrupt\u001b[0m: "
     ]
    }
   ],
   "source": [
    "from vpython import*\n",
    "import math\n",
    "#初始條件\n",
    "L = 1.0\n",
    "K,T,Th,Tc,p0=8.314,273.15,373.15,173.15,101300\n",
    "theta_rod=pi\n",
    "theta_diff=pi/2\n",
    "omega=-2*pi\n",
    "t0=0\n",
    "t,dt=0,1e-3\n",
    "R=0.082\n",
    "\n",
    "#display.5\n",
    "scene=canvas(width=800,height=800,x=200,y=0,background=vec(0.2,0.2,0),center=vec(2*L,0,0))\n",
    "#container\n",
    "container=cylinder(pos=vec(0,0,0),axis=vec(3*L,0,0),radius=L/2,opacity=0.2)\n",
    "containerh=cylinder(radius=L/2,opacity=0.2,color=color.red)\n",
    "#轉盤\n",
    "wheel_pos=vector(5*L,0,0)\n",
    "wheel=cylinder(pos=wheel_pos,axis=vec(0,0,L/10),radius=L/2,opacity=0.5,color=color.green)\n",
    "rod_lengh=L\n",
    "#rodco_lengh=3*L\n",
    "#rodc_x=L*cos(theta_rod)/2\n",
    "#rodc_y=L*sin(theta_rod)/2\n",
    "#rodc=cylinder(pos=wheel.pos+vec(rodc_x,rodc_y,0),axis=vec(-(L**2-rodc_y**2)**0.5,-rodc_y,0),radius=L/30,color=vec(0,0,0.3))\n",
    "#rodco=cylinder(pos=rodc.pos+rodc.axis,axis=vec(0,0,0),radius=L/30,color=vec(0,0.5,0.5),opcity=0.3)\n",
    "#rodco.axis=vector(-(rodco_lengh**2-rodco.pos.y**2)**0.5,-rodc.pos.y,0)\n",
    "\n",
    "rodho_lengh=3*L\n",
    "rodh_x=L*cos(theta_rod)/2\n",
    "rodh_y=L*sin(theta_rod)/2\n",
    "rodh=cylinder(pos=wheel.pos+vec(rodh_x,rodh_y,0),axis=vec(-(L**2-rodh_y**2)**0.5,-rodh_y,0),radius=L/30,color=vec(0,0,0.3))\n",
    "rodho=cylinder(pos=rodh.pos+rodh.axis,axis=vec(0,0,0),radius=L/30,color=vec(0,0.5,0.5),opacity=0.3)\n",
    "rodho.axis=vector(-(rodho_lengh**2-rodho.pos.y**2)**0.5,-rodh.pos.y,0)\n",
    "\n",
    "ratio=1\n",
    "diskh=cylinder(pos=rodho.pos+rodho.axis,axis=vec(0.01*L,0,0),radius=L/2)\n",
    "#diskc=cylinder(pos=rodco.pos+rodco.axis,axis=vec(0.01*L,0,0),radius=L/2)\n",
    "\n",
    "#函式庫\n",
    "Vsh=pi*L**3/4\n",
    "Vdh=pi*L**2*(wheel_pos.x-wheel.radius-rod_lengh-rodho_lengh)/4\n",
    "Vsc=Vsh\n",
    "Vdc=pi*L**2*(rod_lengh-rodho_lengh-2*wheel.radius)/4\n",
    "\n",
    "n=p0*pi*(wheel_pos.x-rodho_lengh)*L**2/4/R/T\n",
    "t_T=Tc/Th\n",
    "\n",
    "def Vh():#熱庫體積\n",
    "    return pi*L**2*(diskh.pos.x)/4\n",
    "#def Vc():#冷庫體積\n",
    " #   return pi*L**2*(diskc.pos.x)/4\n",
    "def V(): #總體積\n",
    "    return pi*L**2*3*L/4-pi*L**2*(diskh.pos.x)/4\n",
    "def p(): #壓力\n",
    "    return (n*R*Tc/t_T*Vh()+V())\n",
    "\n",
    "#熱力學參數\n",
    "Qin=0\n",
    "Oout=0\n",
    "v=0\n",
    "P=p()\n",
    "v=V()\n",
    "vh=Vh()\n",
    "W=0\n",
    "\n",
    "#圖形輸出\n",
    "scene1=graph(y=400,width=800,height=800,xtitle='V(m**3)',ytitle='P(Pa)',background=vec(0.5,0.5,0))\n",
    "pV=gcurve(color=color.red,graph=scene1)\n",
    "scene2=graph(y=400,width=800,height=800,xtitle='t(s)',ytitle='W(J),Qin(J)',background=vec(0.4,0.4,0))\n",
    "scene3=graph(y=400,width=800,height=800,xtitle='t(s)',ytitle='thermal efficiency',background=vec(0.4,0.4,0))\n",
    "Wdrav=gcurve(color=color.cyan,graph=scene2)#W\n",
    "Qindrav=gcurve(color=color.red,graph=scene2)#Qin\n",
    "Qoutdrav=gcurve(color=color.green,graph=scene2)#Qout\n",
    "efficiency_drav=gdots(color=color.blue,graph=scene3)#thermal efficiency\n",
    "rfefdrav=gdots(color=color.cyan,graph=scene3)#theory_thermal efficiency\n",
    "\n",
    "\n",
    "\n",
    " #熱力過程\n",
    "r=1.4 \n",
    "m=0.5\n",
    "Ra=287\n",
    "Th=373.15\n",
    "Tc=273.15\n",
    "p0=101300\n",
    "v0=n*R*Th/p0\n",
    "v1=(Th/Tc)**(1/(r-1))*v0\n",
    "    \n",
    "p1=m*Ra*Tc/v1\n",
    "v3=1/24*pi*L**3\n",
    "p3=p0*v0/v3\n",
    "v2=(Th/Tc)**(1/(r-1))*v3\n",
    "p2=p1*v1/v2\n",
    "W30=m*Ra*Th*math.log(v0/v3)\n",
    "W12=-m*Ra*Tc*math.log(v1/v2)\n",
    "Q30=W30\n",
    "Q12=-W12\n",
    "W01=-5/2*m*Ra*(Tc-Th)\n",
    "W23=-5/2*m*Ra*(Th-Tc)\n",
    "Q01=0\n",
    "Q23=0\n",
    "efficiency=1-Tc/Th\n",
    "W=W01+W12+W23+W30\n",
    "Q=Q01+Q12+Q23+Q30\n",
    "    \n",
    "\n",
    "carnot_cycle=graph(width=600,height=600,xtitle='volume',ytitle='pressure',background=vec(0.5,0.5,0))\n",
    "adiabatic1=gcurve(graph=carnot_cycle,color=color.red)\n",
    "adiabatic2=gcurve(graph=carnot_cycle,color=color.orange)\n",
    "isothermal1=gcurve(graph=carnot_cycle,color=color.blue)\n",
    "isothermal2=gcurve(graph=carnot_cycle,color=color.cyan)\n",
    "\n",
    "c1=round(p0*v0**r)\n",
    "c2=round(p2*v2**r)\n",
    "\n",
    "\n",
    "v=v0    \n",
    "while v0<=v<=v1:\n",
    "    adiabatic1.plot(pos=(v,c1/v**r))\n",
    "    v+=0.0001\n",
    "v=v1\n",
    "while v2<=v<=v1:\n",
    "    isothermal1.plot(pos=(v,m*Ra*Tc/v))\n",
    "    v-=0.0001\n",
    "v=v2\n",
    "while v3<=v<=v2:\n",
    "    adiabatic2.plot(pos=(v,c2/v**r))\n",
    "    v-=0.0001\n",
    "v=v3\n",
    "while v3<=v<=v0:\n",
    "    isothermal2.plot(pos=(v,m*Ra*Th/v))\n",
    "    v+=0.000001\n",
    "\n",
    "while True:\n",
    "    t+=dt\n",
    "    rate(0.1/dt)\n",
    "    \n",
    "    #處理轉動\n",
    "    theta_original=theta_rod\n",
    "    theta_rod+=omega*dt\n",
    "    wheel.rotate(angle=theta_rod-theta_original)\n",
    "    \n",
    "    #操作桿部分\n",
    "    #rodc_x=L*cos(theta_rod)/2\n",
    "    #rodc_y=L*sin(theta_rod)/2\n",
    "    #rodc.pos=vector(rodc_x,rodc_y,0)+wheel.pos\n",
    "    #rodc.axis=vector(-(L**2-rodc_y**2)**0.5,-rodc_y,0)\n",
    "    #rodco.pos=rodc.pos+rodc.axis\n",
    "    #rodco.axis=vector(-(rodco_lengh**2-rodco.pos.y**2)**0.5,-rodco.pos.y,0)\n",
    "    \n",
    "    rodh_x=L*cos(theta_rod)/2\n",
    "    rodh_y=L*sin(theta_rod)/2\n",
    "    rodh.pos=vector(rodh_x,rodh_y,0)+wheel.pos\n",
    "    rodh.axis=vector(-(L**2-rodh_y**2)**0.5,-rodh_y,0)\n",
    "    rodho.pos=rodh.pos+rodh.axis\n",
    "    rodho.axis=vector(-(rodho_lengh**2-rodho.pos.y**2)**0.5,-rodho.pos.y,0)\n",
    "\n",
    "    #活塞部分\n",
    "    #diskc.pos=rodco.pos+rodco.axis\n",
    "    diskh.pos=rodho.pos+rodho.axis\n",
    "    \n",
    "    #容器部分\n",
    "    containerh.axis=diskh.pos\n",
    "    containerh.pos=container.pos\n",
    "    #containerc.pos=diskh.pos\n",
    "    #containerc.axis=diskc.pos-diskh.pos\n",
    "    container.axis=vector(3*L,0,0)#-diskh.pos\n",
    " \n",
    "    #熱力過程\n",
    "    W+=1.5*(P+p())*(V()-v)\n",
    "    Q30+=1.5*(P+p())*(Vh()-vh)\n",
    "    if(theta_rod-theta_original)+(theta_rod-theta_original+omega*dt)<=0: #每週期輸出一次\n",
    "        Wdrav.plot(pos=(t,W))\n",
    "        Qindrav.plot(pos=(t,Q30))\n",
    "        Qoutdrav.plot(pos=(t,Q12))\n",
    "        if 0<W/Qin<1:\n",
    "            efficiency_drav.plot(pos=(t,W/Q30))\n",
    "        \n",
    "        theta_original-=-2*pi\n",
    "    \n",
    "\n",
    "\n",
    "    \n",
    "    P=p()\n",
    "    v=V()\n",
    "    vh=Vh()\n",
    "    #vc=Vc()\n",
    "    pV.plot(pos=(V(),p()))"
   ]
  }
 ],
 "metadata": {
  "kernelspec": {
   "display_name": "VPython",
   "language": "python",
   "name": "vpython"
  }
 },
 "nbformat": 4,
 "nbformat_minor": 2
}
